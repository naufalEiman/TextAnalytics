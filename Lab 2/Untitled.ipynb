{
 "cells": [
  {
   "cell_type": "code",
   "execution_count": 1,
   "id": "8588e543-d883-4a9b-9d7b-db57836f51c5",
   "metadata": {},
   "outputs": [],
   "source": [
    "#importing regular expression library\n",
    "import re "
   ]
  },
  {
   "cell_type": "code",
   "execution_count": 2,
   "id": "769361f4-d49c-40a1-a454-8709b23a8b5d",
   "metadata": {},
   "outputs": [
    {
     "name": "stdout",
     "output_type": "stream",
     "text": [
      "<re.Match object; span=(0, 1), match='I'>\n"
     ]
    }
   ],
   "source": [
    "#using re.match\n",
    "#to find the first occurrence of the letter 'I' in the string\n",
    "sentence1 = re.match (r'I', 'I am learning text analytics')\n",
    "print (sentence1)\n"
   ]
  },
  {
   "cell_type": "code",
   "execution_count": 3,
   "id": "c1eae88c-071c-44fd-a829-7535298d9b95",
   "metadata": {},
   "outputs": [
    {
     "name": "stdout",
     "output_type": "stream",
     "text": [
      "None\n"
     ]
    }
   ],
   "source": [
    "#using re.match\n",
    "#to find the first occurrence of the letter 'v' in the string\n",
    "sentence2 = re.match (r'v', 'I am learning text analytics')\n",
    "print (sentence2)\n"
   ]
  },
  {
   "cell_type": "code",
   "execution_count": 5,
   "id": "88fdf226-d784-4bb5-a0cf-ac2047801270",
   "metadata": {},
   "outputs": [
    {
     "name": "stdout",
     "output_type": "stream",
     "text": [
      "None\n"
     ]
    }
   ],
   "source": [
    "#using re.match\n",
    "#to find the first occurrence of the letter 'am' in the string\n",
    "sentence3 = re.match (r'am', 'I am learning text analytics')\n",
    "print (sentence3)\n"
   ]
  },
  {
   "cell_type": "code",
   "execution_count": 6,
   "id": "8652c28f-0670-4544-9f38-694e4017fb9f",
   "metadata": {},
   "outputs": [
    {
     "name": "stdout",
     "output_type": "stream",
     "text": [
      "<re.Match object; span=(2, 4), match='am'>\n"
     ]
    }
   ],
   "source": [
    "sentence4 = re.search(r'am', 'I am learning text analytics')\n",
    "print (sentence4) "
   ]
  },
  {
   "cell_type": "code",
   "execution_count": 8,
   "id": "3685d21c-9cdc-404b-a611-636057899c58",
   "metadata": {},
   "outputs": [
    {
     "name": "stdout",
     "output_type": "stream",
     "text": [
      "<re.Match object; span=(2, 4), match='am'>\n"
     ]
    }
   ],
   "source": [
    "sentence5 = re.search(r'am', 'I am learning text analytics and am enjoying it')\n",
    "print (sentence5)"
   ]
  },
  {
   "cell_type": "code",
   "execution_count": 9,
   "id": "8f4c6db7-105b-4fd7-9b7f-90efa591c545",
   "metadata": {},
   "outputs": [
    {
     "name": "stdout",
     "output_type": "stream",
     "text": [
      "['am', 'am']\n"
     ]
    }
   ],
   "source": [
    "sentence6 = re.findall(r'am', 'I am learning text analytics and am enjoying it')\n",
    "print (sentence6) "
   ]
  },
  {
   "cell_type": "code",
   "execution_count": 10,
   "id": "a6e42bba-a01b-4a65-97d1-36953156787d",
   "metadata": {},
   "outputs": [
    {
     "name": "stdout",
     "output_type": "stream",
     "text": [
      "['I am learning text analytics ', ' am enjoying it']\n"
     ]
    }
   ],
   "source": [
    "sentence7 = re.split(r'and', 'I am learning text analytics and am enjoying it')\n",
    "print (sentence7) "
   ]
  },
  {
   "cell_type": "code",
   "execution_count": 11,
   "id": "a28a5149-4735-41a8-92a5-42c035413937",
   "metadata": {},
   "outputs": [
    {
     "name": "stdout",
     "output_type": "stream",
     "text": [
      "['I ', ' learning text analytics and ', ' enjoying it']\n"
     ]
    }
   ],
   "source": [
    "sentence8 = re.split(r'am', 'I am learning text analytics and am enjoying it')\n",
    "print (sentence8) "
   ]
  },
  {
   "cell_type": "code",
   "execution_count": 12,
   "id": "7e3b14e6-206e-4cfe-bf7e-a0027306ac16",
   "metadata": {},
   "outputs": [
    {
     "name": "stdout",
     "output_type": "stream",
     "text": [
      "['I ', ' learning text analytics and am enjoying it']\n"
     ]
    }
   ],
   "source": [
    "sentence9 = re.split(r'am', 'I am learning text analytics and am enjoying it', maxsplit=1)\n",
    "print (sentence9) "
   ]
  },
  {
   "cell_type": "code",
   "execution_count": 13,
   "id": "59d05702-32b7-42d9-ab6a-9d1e985f756a",
   "metadata": {},
   "outputs": [
    {
     "name": "stdout",
     "output_type": "stream",
     "text": [
      "['I ', ' learning text analytics and ', ' enjoying it']\n"
     ]
    }
   ],
   "source": [
    "sentence9 = re.split(r'am', 'I am learning text analytics and am enjoying it', maxsplit=2)\n",
    "print (sentence9)"
   ]
  },
  {
   "cell_type": "code",
   "execution_count": 14,
   "id": "d7384452-c265-4e21-ae61-237fd3111063",
   "metadata": {},
   "outputs": [
    {
     "name": "stdout",
     "output_type": "stream",
     "text": [
      "['I ', ' learning text analytics, I ', ' enjoying it and I ', ' going to ace it']\n"
     ]
    }
   ],
   "source": [
    "sentence10 = re.split(r'am', 'I am learning text analytics, I am enjoying it and I am going to ace it', maxsplit=3)\n",
    "print (sentence10) "
   ]
  },
  {
   "cell_type": "code",
   "execution_count": 15,
   "id": "d6342a2f-2f08-45b6-b6b2-449d8a98e4bd",
   "metadata": {},
   "outputs": [
    {
     "name": "stdout",
     "output_type": "stream",
     "text": [
      "we like text analytics and we enjoy learning it\n"
     ]
    }
   ],
   "source": [
    "sentence11 = re.sub(r'I', 'we', 'I like text analytics and I enjoy learning it')\n",
    "print (sentence11)"
   ]
  },
  {
   "cell_type": "code",
   "execution_count": 16,
   "id": "744830e8-aeec-468c-8add-090baab70fc4",
   "metadata": {},
   "outputs": [
    {
     "name": "stdout",
     "output_type": "stream",
     "text": [
      "['I', ' ', 'a', 'm', ' ', 'l', 'e', 'a', 'r', 'n', 'i', 'n', 'g', ' ', 't', 'e', 'x', 't', ' ', 'a', 'n', 'a', 'l', 'y', 't', 'i', 'c', 's']\n"
     ]
    }
   ],
   "source": [
    "sentence1 = re.findall (r'.', 'I am learning text analytics')\n",
    "print (sentence1)\n",
    "# Each letter is selected including spaces"
   ]
  },
  {
   "cell_type": "code",
   "execution_count": 18,
   "id": "69bdfb61-830a-4061-aa1b-323f0423f647",
   "metadata": {},
   "outputs": [
    {
     "name": "stdout",
     "output_type": "stream",
     "text": [
      "['I', 'a', 'm', 'l', 'e', 'a', 'r', 'n', 'i', 'n', 'g', 't', 'e', 'x', 't', 'a', 'n', 'a', 'l', 'y', 't', 'i', 'c', 's']\n"
     ]
    }
   ],
   "source": [
    "sentence2 = re.findall (r'\\w', 'I am learning text analytics') \n",
    "print (sentence2)\n",
    "# Each letter is selected excluding spaces"
   ]
  },
  {
   "cell_type": "code",
   "execution_count": 19,
   "id": "c2cf5bed-9e6e-45a3-a90c-a172bace37c0",
   "metadata": {},
   "outputs": [
    {
     "name": "stdout",
     "output_type": "stream",
     "text": [
      "['I', '', 'am', '', 'learning', '', 'text', '', 'analytics', '']\n"
     ]
    }
   ],
   "source": [
    "sentence3 = re.findall (r'\\w*', 'I am learning text analytics')\n",
    "print (sentence3)\n",
    "# Each word is selected including spaces"
   ]
  },
  {
   "cell_type": "code",
   "execution_count": 20,
   "id": "b5bef3de-6f66-4b2b-bd6a-8277a763dce3",
   "metadata": {},
   "outputs": [
    {
     "name": "stdout",
     "output_type": "stream",
     "text": [
      "['I', 'am', 'learning', 'text', 'analytics']\n"
     ]
    }
   ],
   "source": [
    "sentence4 = re.findall (r'\\w+', 'I am learning text analytics')\n",
    "print (sentence4)\n",
    "# Each word is selected excluding spaces"
   ]
  },
  {
   "cell_type": "code",
   "execution_count": 21,
   "id": "41f99e94-a91b-4ef2-bcc9-5fca8818ceec",
   "metadata": {},
   "outputs": [
    {
     "name": "stdout",
     "output_type": "stream",
     "text": [
      "['I']\n"
     ]
    }
   ],
   "source": [
    "sentence5 = re.findall (r'^\\w+', 'I am learning text analytics')\n",
    "print (sentence5)\n",
    "# First word is selected "
   ]
  },
  {
   "cell_type": "code",
   "execution_count": 22,
   "id": "810827fc-c9e7-4f76-87d7-da6e56b4fa96",
   "metadata": {},
   "outputs": [
    {
     "name": "stdout",
     "output_type": "stream",
     "text": [
      "['analytics']\n"
     ]
    }
   ],
   "source": [
    "sentence6 = re.findall (r'\\w+$', 'I am learning text analytics')\n",
    "print (sentence6)\n",
    "# Last word is selected"
   ]
  },
  {
   "cell_type": "code",
   "execution_count": 23,
   "id": "3bf92222-6d1c-46af-8e2e-f00eb9220a6c",
   "metadata": {},
   "outputs": [
    {
     "name": "stdout",
     "output_type": "stream",
     "text": [
      "['am', 'le', 'ar', 'ni', 'ng', 'te', 'xt', 'an', 'al', 'yt', 'ic']\n"
     ]
    }
   ],
   "source": [
    "sentence7 = re.findall (r'\\w\\w', 'I am learning text analytics')\n",
    "print (sentence7)\n",
    "# 2 consecutive characters are selected"
   ]
  },
  {
   "cell_type": "code",
   "execution_count": 24,
   "id": "2a264382-f43b-4e54-8a65-1465a7b2f692",
   "metadata": {},
   "outputs": [
    {
     "name": "stdout",
     "output_type": "stream",
     "text": [
      "['am', 'le', 'te', 'an']\n"
     ]
    }
   ],
   "source": [
    "sentence8 = re.findall (r'\\b\\w\\w', 'I am learning text analytics')\n",
    "print (sentence8)\n",
    "# 2 consecutive characters in a string are selected\n"
   ]
  },
  {
   "cell_type": "code",
   "execution_count": 25,
   "id": "379c6dc1-68b5-4508-b157-0be4ec058989",
   "metadata": {},
   "outputs": [
    {
     "name": "stdout",
     "output_type": "stream",
     "text": [
      "['@text', '@analytics', '@textanalytics']\n"
     ]
    }
   ],
   "source": [
    "sentence9 = re.findall (r'@\\w+', 'user@text.com.my, user@analytics.gov.my, user@textanalytics.edu.my')\n",
    "print (sentence9)\n",
    "# Only the first word in the domain name is selected"
   ]
  },
  {
   "cell_type": "code",
   "execution_count": 26,
   "id": "cd891884-26fd-4e24-a479-38daf584ba7b",
   "metadata": {},
   "outputs": [
    {
     "name": "stdout",
     "output_type": "stream",
     "text": [
      "['@text.com', '@analytics.gov', '@textanalytics.edu']\n"
     ]
    }
   ],
   "source": [
    "sentence10 = re.findall (r'@\\w+.\\w+','user@text.com.my, user@analytics.gov.my, user@textanalytics.edu.my')\n",
    "print (sentence10) "
   ]
  },
  {
   "cell_type": "code",
   "execution_count": 27,
   "id": "66d6e101-0829-4c21-b959-98b55fb395de",
   "metadata": {},
   "outputs": [
    {
     "name": "stdout",
     "output_type": "stream",
     "text": [
      "['@text.com.my', '@analytics.gov.my', '@textanalytics.edu.my']\n"
     ]
    }
   ],
   "source": [
    "sentence11 = re.findall (r'@\\w+.\\w+.\\w+', 'user@text.com.my, user@analytics.gov.my, user@textanalytics.edu.my')\n",
    "print (sentence11)\n"
   ]
  },
  {
   "cell_type": "code",
   "execution_count": 30,
   "id": "373f6990-ceb9-42a2-9564-826c4dba4e42",
   "metadata": {},
   "outputs": [
    {
     "name": "stdout",
     "output_type": "stream",
     "text": [
      "['com.my', 'gov.my']\n"
     ]
    }
   ],
   "source": [
    "\n",
    "# Solution\n",
    "sentence12 = re.findall (r'@\\w+.(\\w+.\\w+)', 'user@text.com.my, user@analytics.gov.my, u')\n",
    "print (sentence12)\n",
    "# To display the type of domain"
   ]
  },
  {
   "cell_type": "code",
   "execution_count": 31,
   "id": "f0145a73-89cb-4aad-815d-914081680df0",
   "metadata": {},
   "outputs": [
    {
     "name": "stdout",
     "output_type": "stream",
     "text": [
      "['15-05-20', '20-08-20']\n"
     ]
    }
   ],
   "source": [
    "sentence13 = re.findall (r'\\d{2}-\\d{2}-\\d{2}', 'Ahmad BIT(IS) 15-05-2001, Johnny BCS(SE) 20-08-2000')\n",
    "print (sentence13)\n",
    "# To display the date in the format of dd-mm-yy"
   ]
  },
  {
   "cell_type": "code",
   "execution_count": 32,
   "id": "890343cc-3751-4b65-a2d3-2e9cbcc325d3",
   "metadata": {},
   "outputs": [
    {
     "name": "stdout",
     "output_type": "stream",
     "text": [
      "['15-05-2001', '20-08-2000']\n"
     ]
    }
   ],
   "source": [
    "sentence14 = re.findall (r'\\d{2}-\\d{2}-\\d{4}', 'Ahmad BIT(IS) 15-05-2001, Johnny BCS(SE) 20-08-2000')\n",
    "print (sentence14)\n",
    "# To display the date in the format of dd-mm-yyyy"
   ]
  },
  {
   "cell_type": "code",
   "execution_count": 33,
   "id": "4e6b4534-ffc2-4046-b374-f8e906ebb551",
   "metadata": {},
   "outputs": [
    {
     "name": "stdout",
     "output_type": "stream",
     "text": [
      "['2001', '2000']\n"
     ]
    }
   ],
   "source": [
    "sentence15 = re.findall (r'\\d{2}-\\d{2}-(\\d{4})', 'Ahmad BIT(IS) 15-05-2001, Johnny BCS(SE) 20-08-2000')\n",
    "print (sentence15)\n",
    "# Only the year will be displayed"
   ]
  },
  {
   "cell_type": "code",
   "execution_count": 34,
   "id": "e183e797-e88b-4929-a3db-2439bdadb175",
   "metadata": {},
   "outputs": [
    {
     "name": "stdout",
     "output_type": "stream",
     "text": [
      "['ave', 'eight', 'ory', 'ooks', 'often', 'ead', 'em', 'in', 'afternoon']\n"
     ]
    }
   ],
   "source": [
    "sentence16 = re.findall (r'[aeiouAEIOU]\\w+', 'I have eight story books. I often read them in afternoon')\n",
    "print (sentence16)\n",
    "# A sequence that starts with a vowel followed by one o rmore characters are selected\n"
   ]
  },
  {
   "cell_type": "code",
   "execution_count": 35,
   "id": "3a4f1075-138a-4b15-bb18-6321bfef946f",
   "metadata": {},
   "outputs": [
    {
     "name": "stdout",
     "output_type": "stream",
     "text": [
      "['eight', 'often', 'in', 'afternoon']\n"
     ]
    }
   ],
   "source": [
    "sentence17 = re.findall (r'\\b[aeiouAEIOU]\\w+', 'I have eight story books. I often read them in afternoon')\n",
    "print (sentence17)\n",
    "# Only words that start with vowels are selected"
   ]
  },
  {
   "cell_type": "code",
   "execution_count": 36,
   "id": "daa63199-cabd-4018-a27c-f090330f0fed",
   "metadata": {},
   "outputs": [
    {
     "name": "stdout",
     "output_type": "stream",
     "text": [
      "['have', 'story', 'books', 'read', 'them']\n"
     ]
    }
   ],
   "source": [
    "sentence18 = re.findall (r'\\b[^aeiouAEIOU\\s]\\w+', 'I have eight story books. I often read them in afternoon')\n",
    "print (sentence18)\n",
    "# Only words that start with non-vowels are selected"
   ]
  },
  {
   "cell_type": "code",
   "execution_count": 37,
   "id": "6ef15793-f9cf-47d9-b808-ce4d1da7fd54",
   "metadata": {},
   "outputs": [
    {
     "name": "stdout",
     "output_type": "stream",
     "text": [
      "['I have many story books', ' colouring books', ' I often read them in the afternoon.']\n"
     ]
    }
   ],
   "source": [
    "sentence19 = re.split (r'[;,]', 'I have many story books, colouring books; I often read them in the afternoon.')\n",
    "print (sentence19)\n",
    "# split the words based on the delimiters semi colon and comma"
   ]
  },
  {
   "cell_type": "code",
   "execution_count": 38,
   "id": "8e0a31d4-b881-43ae-a879-2364d7336757",
   "metadata": {},
   "outputs": [
    {
     "name": "stdout",
     "output_type": "stream",
     "text": [
      "['I', 'have', 'many', 'story', 'books', '', 'colouring', 'books', '', 'I', 'often', 'read', 'them', 'in', 'the', 'afternoon.']\n"
     ]
    }
   ],
   "source": [
    "sentence20 = re.split (r'[;,\\s]', 'I have many story books, colouring books; I often read them in the afternoon.')\n",
    "print (sentence20)\n",
    "# split the words based on the delimiters semi colon, comma and space\n"
   ]
  },
  {
   "cell_type": "code",
   "execution_count": 39,
   "id": "3e4c074f-5a32-4de1-9e04-83af9670de7e",
   "metadata": {},
   "outputs": [
    {
     "name": "stdout",
     "output_type": "stream",
     "text": [
      "I have many story books. colouring books. I often read them in the afternoon.\n"
     ]
    }
   ],
   "source": [
    "sentence21 = re.sub (r'[;,]', '.', 'I have many story books, colouring books; I often read them in the afternoon.')\n",
    "print (sentence21)\n",
    "# Substitute the delimiters semi colon and comma with fullstop"
   ]
  },
  {
   "cell_type": "code",
   "execution_count": 40,
   "id": "ac71ab82-591f-4159-b7a5-4967c1bdfa31",
   "metadata": {},
   "outputs": [
    {
     "name": "stdout",
     "output_type": "stream",
     "text": [
      "Digits found: ['2', '4', '5', '6', '7', '8', '9', '3', '4', '1', '2', '3', '0']\n"
     ]
    }
   ],
   "source": [
    "import re\n",
    "\n",
    "text = \"Order number: 24567, Tracking ID: 8934A12, Quantity: 30\"\n",
    "pattern = r\"\\d\"\n",
    "\n",
    "matches = re.findall(pattern, text)\n",
    "print(\"Digits found:\", matches)"
   ]
  },
  {
   "cell_type": "code",
   "execution_count": 41,
   "id": "6d1ba322-3912-4ffd-8ad1-10ae2cb87712",
   "metadata": {},
   "outputs": [
    {
     "name": "stdout",
     "output_type": "stream",
     "text": [
      "Non-alphanumeric characters: ['!', ' ', \"'\", ' ', ' ', ' ', '?', ' ', ' ', ' ', '@', ' ', '.']\n"
     ]
    }
   ],
   "source": [
    "import re\n",
    "\n",
    "text = \"Welcome! How's your day going? Call me @ 3pm.\"\n",
    "\n",
    "pattern = r\"\\W\"\n",
    "\n",
    "matches = re.findall(pattern, text)\n",
    "print(\"Non-alphanumeric characters:\", matches)"
   ]
  },
  {
   "cell_type": "code",
   "execution_count": 42,
   "id": "b7b7d646-4b60-45e2-ac79-e07379824074",
   "metadata": {},
   "outputs": [
    {
     "name": "stdout",
     "output_type": "stream",
     "text": [
      "Split text: ['Data Science', ' AI', ' and Machine Learning', ' These fields are growing fast', '']\n"
     ]
    }
   ],
   "source": [
    "import re\n",
    "\n",
    "text = \"Data Science, AI, and Machine Learning. These fields are growing fast.\"\n",
    "\n",
    "pattern = r\"[,.]\"\n",
    "\n",
    "split_text = re.split(pattern, text)\n",
    "print(\"Split text:\", split_text)"
   ]
  },
  {
   "cell_type": "code",
   "execution_count": 43,
   "id": "90f46f7b-bf9c-4646-98d3-51b1834f3d15",
   "metadata": {},
   "outputs": [
    {
     "name": "stdout",
     "output_type": "stream",
     "text": [
      "Anonymized text: Contact us at [HIDDEN] or [HIDDEN]\n"
     ]
    }
   ],
   "source": [
    "import re\n",
    "\n",
    "text = \"Contact us at support@example.com or info@company.org\"\n",
    "\n",
    "pattern = r\"\\S+@\\S+\"\n",
    "\n",
    "new_text = re.sub(pattern, \"[HIDDEN]\", text)\n",
    "print(\"Anonymized text:\", new_text)"
   ]
  },
  {
   "cell_type": "code",
   "execution_count": 44,
   "id": "aa133ac3-8cb5-4aa0-9788-b2c4096711b1",
   "metadata": {},
   "outputs": [
    {
     "name": "stdout",
     "output_type": "stream",
     "text": [
      "Domain types: ['com', 'edu', 'org']\n"
     ]
    }
   ],
   "source": [
    "import re\n",
    "\n",
    "text = \"Emails: user@gmail.com, admin@university.edu, info@company.org\"\n",
    "\n",
    "pattern = r\"@[\\w.]+\\.([a-z]{2,})\"\n",
    "\n",
    "matches = re.findall(pattern, text)\n",
    "print(\"Domain types:\", matches)"
   ]
  },
  {
   "cell_type": "code",
   "execution_count": null,
   "id": "76a08ec2-b559-4042-b1e6-0bfb89962bee",
   "metadata": {},
   "outputs": [],
   "source": []
  }
 ],
 "metadata": {
  "kernelspec": {
   "display_name": "Python 3 (ipykernel)",
   "language": "python",
   "name": "python3"
  },
  "language_info": {
   "codemirror_mode": {
    "name": "ipython",
    "version": 3
   },
   "file_extension": ".py",
   "mimetype": "text/x-python",
   "name": "python",
   "nbconvert_exporter": "python",
   "pygments_lexer": "ipython3",
   "version": "3.12.7"
  }
 },
 "nbformat": 4,
 "nbformat_minor": 5
}
