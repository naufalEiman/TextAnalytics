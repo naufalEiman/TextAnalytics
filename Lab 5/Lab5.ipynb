{
 "cells": [
  {
   "cell_type": "code",
   "execution_count": 42,
   "id": "2a59b0db-f876-4114-a1d4-178da9810628",
   "metadata": {},
   "outputs": [],
   "source": [
    "from collections import Counter #count word occurrences\n",
    "import pandas as pd"
   ]
  },
  {
   "cell_type": "code",
   "execution_count": 44,
   "id": "27bcede0-e219-416a-9741-36ec5659fead",
   "metadata": {},
   "outputs": [],
   "source": [
    "file_path = \"Processed_Reviews.csv\"\n",
    "df = pd.read_csv(file_path)"
   ]
  },
  {
   "cell_type": "code",
   "execution_count": 46,
   "id": "1d70b8e1-100a-47b2-bef8-217d576be69e",
   "metadata": {},
   "outputs": [],
   "source": [
    "tokenized_reviews = df['tokenized'].dropna().apply(eval)"
   ]
  },
  {
   "cell_type": "code",
   "execution_count": 48,
   "id": "0a488e85-15a5-4469-8927-a0d76ce1c824",
   "metadata": {},
   "outputs": [],
   "source": [
    "all_words = [word for review in tokenized_reviews for word in review]\n",
    "unique_words = list(set(all_words))"
   ]
  },
  {
   "cell_type": "code",
   "execution_count": 50,
   "id": "f2f93aa1-cd49-4f6e-b1ef-6475ef9bee7f",
   "metadata": {},
   "outputs": [],
   "source": [
    "word_freq = Counter(all_words)\n",
    "sorted_word_freq = dict(sorted(word_freq.items(), key=lambda item: item[1],\n",
    "reverse=True))"
   ]
  },
  {
   "cell_type": "code",
   "execution_count": 52,
   "id": "7c2e4531-577b-4f63-8a57-c4deb5025009",
   "metadata": {},
   "outputs": [],
   "source": [
    "document_vectors = []\n",
    "for review in tokenized_reviews:\n",
    " document_vector = [1 if word in review else 0 for word in sorted_word_freq.keys()]\n",
    " document_vectors.append(document_vector)"
   ]
  },
  {
   "cell_type": "code",
   "execution_count": 54,
   "id": "4b447c52-7faa-422b-9b81-431c62171671",
   "metadata": {},
   "outputs": [],
   "source": [
    "doc_vectors_df = pd.DataFrame(document_vectors, columns=sorted_word_freq.keys())"
   ]
  },
  {
   "cell_type": "code",
   "execution_count": 56,
   "id": "9eb4632c-ee75-4174-b522-29133abef637",
   "metadata": {},
   "outputs": [],
   "source": [
    "doc_vectors_df.to_csv(\"document_vectors.csv\", index=False)"
   ]
  },
  {
   "cell_type": "code",
   "execution_count": 58,
   "id": "9b02c104-fc9f-4c19-918c-6ea6f9930e11",
   "metadata": {},
   "outputs": [
    {
     "name": "stdout",
     "output_type": "stream",
     "text": [
      "Word Frequency Table:\n",
      "           Word  Frequency\n",
      "0       product          7\n",
      "1       quality          3\n",
      "2         great          2\n",
      "3       amazing          2\n",
      "4          love          2\n",
      "5       awesome          2\n",
      "6          work          2\n",
      "7     perfectly          2\n",
      "8          life          2\n",
      "9        expect          2\n",
      "10       arrive          1\n",
      "11         time          1\n",
      "12    packaging          1\n",
      "13        amaze          1\n",
      "14          buy          1\n",
      "15        phone          1\n",
      "16           hz          1\n",
      "17      display          1\n",
      "18      totally          1\n",
      "19        worth          1\n",
      "20          wow          1\n",
      "21          bit          1\n",
      "22    expensive          1\n",
      "23       laptop          1\n",
      "24         fine          1\n",
      "25        check          1\n",
      "26         full          1\n",
      "27       detail          1\n",
      "28     purchase          1\n",
      "29        happy          1\n",
      "30      battery          1\n",
      "31    excellent          1\n",
      "32       charge          1\n",
      "33        cable          1\n",
      "34        short          1\n",
      "35          can          1\n",
      "36          not          1\n",
      "37      believe          1\n",
      "38         good          1\n",
      "39         fast          1\n",
      "40     delivery          1\n",
      "41       honest          1\n",
      "42         much          1\n",
      "43           oh          1\n",
      "44          god          1\n",
      "45         best          1\n",
      "46         ever          1\n",
      "47          use          1\n",
      "48         shoe          1\n",
      "49  comfortable          1\n",
      "50          fit          1\n",
      "51       nicely          1\n",
      "52          jog          1\n"
     ]
    }
   ],
   "source": [
    "word_freq_df = pd.DataFrame(list(sorted_word_freq.items()), columns=[\"Word\",\n",
    "\"Frequency\"])\n",
    "print(\"Word Frequency Table:\")\n",
    "print(word_freq_df)"
   ]
  },
  {
   "cell_type": "code",
   "execution_count": 60,
   "id": "641bc56e-3b30-46fe-a6c6-4161ba677dc2",
   "metadata": {},
   "outputs": [],
   "source": [
    "import pandas as pd\n",
    "import math # use for log function\n",
    "from collections import Counter"
   ]
  },
  {
   "cell_type": "code",
   "execution_count": 62,
   "id": "4ceb6025-56ee-40b3-9a12-ce96cd75d09c",
   "metadata": {},
   "outputs": [],
   "source": [
    "file_path = \"Processed_Reviews.csv\"\n",
    "df = pd.read_csv(file_path)"
   ]
  },
  {
   "cell_type": "code",
   "execution_count": 64,
   "id": "6ba15c41-4fb1-4203-905a-2fad2b9e604e",
   "metadata": {},
   "outputs": [],
   "source": [
    "tokenized_reviews = df['tokenized'].dropna().apply(eval)"
   ]
  },
  {
   "cell_type": "code",
   "execution_count": 66,
   "id": "97e40d99-bc65-4c29-b1c4-5d2d7dc41be7",
   "metadata": {},
   "outputs": [],
   "source": [
    "def compute_tf(document):\n",
    " word_count = Counter(document)\n",
    " tf = {word: count / len(document) for word, count in word_count.items()}\n",
    " return tf"
   ]
  },
  {
   "cell_type": "code",
   "execution_count": 68,
   "id": "7d42bd7e-6836-4b62-b13b-b7df9e6abb78",
   "metadata": {},
   "outputs": [],
   "source": [
    "def compute_idf(documents):\n",
    " N = len(documents) # Total number of documents\n",
    " idf = {}\n",
    " all_words = set(word for doc in documents for word in doc) # Unique words\n",
    " for word in all_words:\n",
    "     count = sum(1 for doc in documents if word in doc)\n",
    "     idf[word] = math.log(N / count)\n",
    " return idf"
   ]
  },
  {
   "cell_type": "code",
   "execution_count": 70,
   "id": "db2e6c0e-14f6-4b35-b1d1-7bbf55badcba",
   "metadata": {},
   "outputs": [],
   "source": [
    "def compute_tfidf(document, idf):\n",
    " tfidf = {}\n",
    " tf = compute_tf(document) # Get TF values for the document\n",
    " for word, tf_value in tf.items():\n",
    "     tfidf[word] = tf_value * idf[word] # Multiply TF and IDF\n",
    " return tfidf"
   ]
  },
  {
   "cell_type": "code",
   "execution_count": 72,
   "id": "aa7a566c-2c61-4d85-8372-93239d137134",
   "metadata": {},
   "outputs": [],
   "source": [
    "documents = tokenized_reviews.tolist()"
   ]
  },
  {
   "cell_type": "code",
   "execution_count": 74,
   "id": "58ae3067-1148-4315-a849-c50c2f8a4893",
   "metadata": {},
   "outputs": [],
   "source": [
    "tf_data = [compute_tf(doc) for doc in documents]\n",
    "tf_df = pd.DataFrame(tf_data).fillna(0)\n",
    "tf_df.to_csv(\"tf_scores.csv\", index=False)"
   ]
  },
  {
   "cell_type": "code",
   "execution_count": 76,
   "id": "81b09d52-5979-47f9-9299-a9b96fe1077d",
   "metadata": {},
   "outputs": [],
   "source": [
    "idf = compute_idf(documents)\n",
    "idf_df = pd.DataFrame([idf]).fillna(0)\n",
    "idf_df.to_csv(\"idf_scores.csv\", index=False)"
   ]
  },
  {
   "cell_type": "code",
   "execution_count": 78,
   "id": "4ac933fe-bf6c-48e3-b22b-27d12537df45",
   "metadata": {},
   "outputs": [],
   "source": [
    "tfidf_data = [compute_tfidf(doc, idf) for doc in documents]\n",
    "tfidf_df = pd.DataFrame(tfidf_data).fillna(0)\n",
    "tfidf_df.to_csv(\"tfidf_scores.csv\", index=False)"
   ]
  },
  {
   "cell_type": "code",
   "execution_count": null,
   "id": "c203075f-5708-4c68-bd43-8652063542b1",
   "metadata": {},
   "outputs": [],
   "source": []
  }
 ],
 "metadata": {
  "kernelspec": {
   "display_name": "Python [conda env:base] *",
   "language": "python",
   "name": "conda-base-py"
  },
  "language_info": {
   "codemirror_mode": {
    "name": "ipython",
    "version": 3
   },
   "file_extension": ".py",
   "mimetype": "text/x-python",
   "name": "python",
   "nbconvert_exporter": "python",
   "pygments_lexer": "ipython3",
   "version": "3.12.7"
  }
 },
 "nbformat": 4,
 "nbformat_minor": 5
}
